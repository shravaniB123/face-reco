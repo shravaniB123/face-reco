{
 "cells": [
  {
   "cell_type": "code",
   "execution_count": 1,
   "id": "5a4b4974",
   "metadata": {},
   "outputs": [],
   "source": [
    "import cv2"
   ]
  },
  {
   "cell_type": "code",
   "execution_count": null,
   "id": "a2821b0d",
   "metadata": {},
   "outputs": [],
   "source": [
    "pip uninstall face_recognition"
   ]
  },
  {
   "cell_type": "code",
   "execution_count": null,
   "id": "ed9ab015",
   "metadata": {},
   "outputs": [],
   "source": [
    "import face-recognition"
   ]
  },
  {
   "cell_type": "code",
   "execution_count": null,
   "id": "f2d11dd7",
   "metadata": {},
   "outputs": [],
   "source": []
  }
 ],
 "metadata": {
  "kernelspec": {
   "display_name": "Python 3 (ipykernel)",
   "language": "python",
   "name": "python3"
  },
  "language_info": {
   "codemirror_mode": {
    "name": "ipython",
    "version": 3
   },
   "file_extension": ".py",
   "mimetype": "text/x-python",
   "name": "python",
   "nbconvert_exporter": "python",
   "pygments_lexer": "ipython3",
   "version": "3.11.4"
  }
 },
 "nbformat": 4,
 "nbformat_minor": 5
}
